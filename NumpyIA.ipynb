{
  "nbformat": 4,
  "nbformat_minor": 0,
  "metadata": {
    "colab": {
      "provenance": [],
      "authorship_tag": "ABX9TyPtLrWjLgpDEY5KUvvJFXBP",
      "include_colab_link": true
    },
    "kernelspec": {
      "name": "python3",
      "display_name": "Python 3"
    },
    "language_info": {
      "name": "python"
    }
  },
  "cells": [
    {
      "cell_type": "markdown",
      "metadata": {
        "id": "view-in-github",
        "colab_type": "text"
      },
      "source": [
        "<a href=\"https://colab.research.google.com/github/LisMen16/ArticuloML/blob/main/NumpyIA.ipynb\" target=\"_parent\"><img src=\"https://colab.research.google.com/assets/colab-badge.svg\" alt=\"Open In Colab\"/></a>"
      ]
    },
    {
      "cell_type": "code",
      "execution_count": null,
      "metadata": {
        "id": "7IrpUkroH35V",
        "colab": {
          "base_uri": "https://localhost:8080/"
        },
        "outputId": "80bb5544-4b5b-48aa-8b10-3a7102f1eacc"
      },
      "outputs": [
        {
          "output_type": "stream",
          "name": "stdout",
          "text": [
            "[1 2 3 4 5]\n",
            "(5,)\n",
            "(2, 5)\n",
            "[[1 2 3 4 5]\n",
            " [1 2 3 4 5]]\n",
            "<class 'numpy.ndarray'>\n",
            "[[0. 0. 0. 0.]\n",
            " [0. 0. 0. 0.]\n",
            " [0. 0. 0. 0.]\n",
            " [0. 0. 0. 0.]]\n",
            "[[5 5 5 5]\n",
            " [5 5 5 5]\n",
            " [5 5 5 5]\n",
            " [5 5 5 5]]\n",
            "[[1. 0. 0. 0.]\n",
            " [0. 1. 0. 0.]\n",
            " [0. 0. 1. 0.]\n",
            " [0. 0. 0. 1.]]\n",
            "[[1. 1. 1. 1.]\n",
            " [1. 1. 1. 1.]\n",
            " [1. 1. 1. 1.]\n",
            " [1. 1. 1. 1.]]\n"
          ]
        }
      ],
      "source": [
        "import numpy as np\n",
        "aux=np.array( [1,2,3,4,5])\n",
        "print(aux)\n",
        "print(aux.shape)\n",
        "\n",
        "aux=np.array([[1,2,3,4,5],[1,2,3,4,5]])\n",
        "print(aux.shape)\n",
        "print (aux)\n",
        "print(type(aux))\n",
        "\n",
        "tpm=np.zeros((4,4))\n",
        "print (tpm)\n",
        "\n",
        "tpm=np.full((4,4),5)\n",
        "print (tpm)\n",
        "\n",
        "tpm=np.eye(4,4)\n",
        "print (tpm)\n",
        "\n",
        "tpm=np.ones((4,4))\n",
        "print (tpm)"
      ]
    },
    {
      "cell_type": "code",
      "source": [
        "tpm=10*np.random.random((3,3))\n",
        "print(tpm)"
      ],
      "metadata": {
        "id": "8i99v08dH629",
        "colab": {
          "base_uri": "https://localhost:8080/"
        },
        "outputId": "b1b3d2c5-357a-4a1d-f301-e1828dcf5d3b"
      },
      "execution_count": null,
      "outputs": [
        {
          "output_type": "stream",
          "name": "stdout",
          "text": [
            "[[7.52945319 3.25770787 8.70972511]\n",
            " [9.8015027  6.19835937 6.58116565]\n",
            " [5.09752705 3.45333984 8.15944266]]\n"
          ]
        }
      ]
    },
    {
      "cell_type": "code",
      "source": [
        "print(tpm[:2,:2])"
      ],
      "metadata": {
        "id": "s2maYYQPH7HI",
        "colab": {
          "base_uri": "https://localhost:8080/"
        },
        "outputId": "a1720591-051f-4a93-cf73-467bd4c6eb5e"
      },
      "execution_count": null,
      "outputs": [
        {
          "output_type": "stream",
          "name": "stdout",
          "text": [
            "[[7.52945319 3.25770787]\n",
            " [9.8015027  6.19835937]]\n"
          ]
        }
      ]
    },
    {
      "cell_type": "code",
      "source": [
        "print(tpm[:2,1:3])"
      ],
      "metadata": {
        "colab": {
          "base_uri": "https://localhost:8080/"
        },
        "id": "Fa4ih2RsTG9a",
        "outputId": "e735ebb0-405e-4108-fd7e-0e86d3cbae25"
      },
      "execution_count": null,
      "outputs": [
        {
          "output_type": "stream",
          "name": "stdout",
          "text": [
            "[[3.25770787 8.70972511]\n",
            " [6.19835937 6.58116565]]\n"
          ]
        }
      ]
    },
    {
      "cell_type": "code",
      "source": [
        "print(tpm[1,1])"
      ],
      "metadata": {
        "colab": {
          "base_uri": "https://localhost:8080/"
        },
        "id": "V0_aciTNTHVk",
        "outputId": "2d8f52ed-155c-4e0f-f876-955fe2b059b4"
      },
      "execution_count": null,
      "outputs": [
        {
          "output_type": "stream",
          "name": "stdout",
          "text": [
            "6.198359371530431\n"
          ]
        }
      ]
    },
    {
      "cell_type": "code",
      "source": [
        "print(tpm[2,2])"
      ],
      "metadata": {
        "colab": {
          "base_uri": "https://localhost:8080/"
        },
        "id": "ByqFYV8TTHlM",
        "outputId": "3808c1f5-dad2-4515-86e0-0360ee8b80a1"
      },
      "execution_count": null,
      "outputs": [
        {
          "output_type": "stream",
          "name": "stdout",
          "text": [
            "8.159442656514754\n"
          ]
        }
      ]
    },
    {
      "cell_type": "code",
      "source": [
        "tpm=10*np.random.random((3,3))\n",
        "print(tpm)"
      ],
      "metadata": {
        "colab": {
          "base_uri": "https://localhost:8080/"
        },
        "id": "xCpMpcJUUZ4r",
        "outputId": "5297e7ee-226f-456c-dbcd-900ff0f88212"
      },
      "execution_count": null,
      "outputs": [
        {
          "output_type": "stream",
          "name": "stdout",
          "text": [
            "[[6.49694536 6.97793142 5.09735141]\n",
            " [3.65871936 2.75318812 7.24996278]\n",
            " [8.46294759 7.71054349 4.56151114]]\n"
          ]
        }
      ]
    },
    {
      "cell_type": "code",
      "source": [
        "mask=tpm>5\n",
        "print(tpm[mask])"
      ],
      "metadata": {
        "colab": {
          "base_uri": "https://localhost:8080/"
        },
        "id": "sXoKBr_TUkxN",
        "outputId": "1625eba3-398b-477c-ad32-57ad85d9689f"
      },
      "execution_count": null,
      "outputs": [
        {
          "output_type": "stream",
          "name": "stdout",
          "text": [
            "[6.49694536 6.97793142 5.09735141 7.24996278 8.46294759 7.71054349]\n"
          ]
        }
      ]
    },
    {
      "cell_type": "code",
      "source": [
        "mask =(tpm >= 2) & (tpm <= 4)\n",
        "print(tpm[mask])"
      ],
      "metadata": {
        "colab": {
          "base_uri": "https://localhost:8080/"
        },
        "id": "G4cK_VF4VcaU",
        "outputId": "f1dfd83f-3daa-4d01-adf2-baa615e75407"
      },
      "execution_count": null,
      "outputs": [
        {
          "output_type": "stream",
          "name": "stdout",
          "text": [
            "[3.65871936 2.75318812]\n"
          ]
        }
      ]
    },
    {
      "cell_type": "code",
      "source": [
        "tpm = np.random.randint(1,11,(4,4))\n",
        "print(tpm)"
      ],
      "metadata": {
        "colab": {
          "base_uri": "https://localhost:8080/"
        },
        "id": "fJC7bC5CVcxe",
        "outputId": "c3448775-4083-49ec-94e6-3535cc50a9b4"
      },
      "execution_count": null,
      "outputs": [
        {
          "output_type": "stream",
          "name": "stdout",
          "text": [
            "[[ 2  3  3  3]\n",
            " [ 4 10  9  8]\n",
            " [ 3  3 10  8]\n",
            " [ 1  7  2 10]]\n"
          ]
        }
      ]
    },
    {
      "cell_type": "code",
      "source": [
        "import numpy as np\n",
        "# create an array with ramdon integer values batween 1 and 10\n",
        "a =np.random.randint(1,11,size =(3,4))\n",
        "b = np.random.randint(1,11,size=(3,4))\n",
        "print(a)\n",
        "print(b)\n",
        "print(a.shape)\n",
        "print(b.shape)\n",
        "print(\"adding numbers\")\n",
        "print(a+b)\n",
        "print(np.add(a,b))\n",
        "print(\"substracting numbers\")\n",
        "print (a-b)\n",
        "\n",
        "print(np.add(a,b))\n",
        "print (np.multiply(a,b))"
      ],
      "metadata": {
        "id": "a0JIH3ROVdLP",
        "colab": {
          "base_uri": "https://localhost:8080/"
        },
        "outputId": "1926d098-ef0a-4d3b-ffe8-71512328ad8e"
      },
      "execution_count": 1,
      "outputs": [
        {
          "output_type": "stream",
          "name": "stdout",
          "text": [
            "[[8 9 8 4]\n",
            " [9 3 6 5]\n",
            " [2 2 9 3]]\n",
            "[[ 7  1  4  4]\n",
            " [ 6  7 10  5]\n",
            " [ 9  7 10  9]]\n",
            "(3, 4)\n",
            "(3, 4)\n",
            "adding numbers\n",
            "[[15 10 12  8]\n",
            " [15 10 16 10]\n",
            " [11  9 19 12]]\n",
            "[[15 10 12  8]\n",
            " [15 10 16 10]\n",
            " [11  9 19 12]]\n",
            "substracting numbers\n",
            "[[ 1  8  4  0]\n",
            " [ 3 -4 -4  0]\n",
            " [-7 -5 -1 -6]]\n",
            "[[15 10 12  8]\n",
            " [15 10 16 10]\n",
            " [11  9 19 12]]\n",
            "[[56  9 32 16]\n",
            " [54 21 60 25]\n",
            " [18 14 90 27]]\n"
          ]
        }
      ]
    },
    {
      "cell_type": "code",
      "source": [
        "np = np.random.randint(0,100, (4,4))\n",
        "\n",
        "np = np[np % 2 == 0]\n",
        "print(np)"
      ],
      "metadata": {
        "colab": {
          "base_uri": "https://localhost:8080/"
        },
        "id": "-hbPlvirKQIi",
        "outputId": "960d8bbb-76c7-4f21-a1c6-d4b9477cc1d0"
      },
      "execution_count": 9,
      "outputs": [
        {
          "output_type": "stream",
          "name": "stdout",
          "text": [
            "[66 52 48 46  8 72]\n"
          ]
        }
      ]
    },
    {
      "cell_type": "code",
      "source": [
        "a =np.random.randint(1,11,size =(2,3))\n",
        "b = np.random.randint(1,11,size=(3,4))\n",
        "print(a)\n",
        "print(b)\n",
        "print(np.dot(a,b))\n",
        "print(a.dot(b))"
      ],
      "metadata": {
        "colab": {
          "base_uri": "https://localhost:8080/"
        },
        "id": "DRoRoRdrJNBM",
        "outputId": "ed0b8b03-fd95-4db3-fc69-2188d80ee5cb"
      },
      "execution_count": 2,
      "outputs": [
        {
          "output_type": "stream",
          "name": "stdout",
          "text": [
            "[[3 8 9]\n",
            " [3 2 1]]\n",
            "[[ 4  3 10  3]\n",
            " [ 8  9 10  3]\n",
            " [ 4  5  4  8]]\n",
            "[[112 126 146 105]\n",
            " [ 32  32  54  23]]\n",
            "[[112 126 146 105]\n",
            " [ 32  32  54  23]]\n"
          ]
        }
      ]
    },
    {
      "cell_type": "code",
      "source": [
        "a =np.random.randint(1,11,size =(2,2))\n",
        "print(a.shape)\n",
        "print(type(a))\n",
        "print(a)\n",
        "print(a.T)"
      ],
      "metadata": {
        "colab": {
          "base_uri": "https://localhost:8080/"
        },
        "id": "GGGRVvQ3JQ1p",
        "outputId": "032b9d62-049d-412c-82dc-eabf3d2cb9cd"
      },
      "execution_count": 3,
      "outputs": [
        {
          "output_type": "stream",
          "name": "stdout",
          "text": [
            "(2, 2)\n",
            "<class 'numpy.ndarray'>\n",
            "[[5 6]\n",
            " [2 6]]\n",
            "[[5 2]\n",
            " [6 6]]\n"
          ]
        }
      ]
    },
    {
      "cell_type": "code",
      "source": [
        "a =np.random.randint(1,11,size =(4,3))\n",
        "b=np.array ([1,0,2])\n",
        "print(a.shape)\n",
        "print(b.shape)\n",
        "\n",
        "c=np.empty_like(a)\n",
        "print(a)\n",
        "print(b)\n",
        "\n",
        "print(c.shape)\n",
        "print(\"------------------\")\n",
        "print(c)"
      ],
      "metadata": {
        "colab": {
          "base_uri": "https://localhost:8080/"
        },
        "id": "s7Z_2W-6JU0K",
        "outputId": "fd5135c6-9f61-4a36-92df-2caf7e9711a3"
      },
      "execution_count": 4,
      "outputs": [
        {
          "output_type": "stream",
          "name": "stdout",
          "text": [
            "(4, 3)\n",
            "(3,)\n",
            "[[4 2 8]\n",
            " [5 6 1]\n",
            " [8 5 4]\n",
            " [5 8 7]]\n",
            "[1 0 2]\n",
            "(4, 3)\n",
            "------------------\n",
            "[[8 9 8]\n",
            " [4 9 3]\n",
            " [6 5 2]\n",
            " [2 9 3]]\n"
          ]
        }
      ]
    },
    {
      "cell_type": "code",
      "source": [
        "for i in range(4):\n",
        "  c[i,:]=a[i,:]+b\n",
        "\n",
        "  print(a)\n",
        "  print(b)\n",
        "  print(c)\n",
        "\n",
        "  c=a+b\n",
        "  print(c)"
      ],
      "metadata": {
        "colab": {
          "base_uri": "https://localhost:8080/"
        },
        "id": "Aqyy3iT9JU4Y",
        "outputId": "62b8d4eb-2ed0-4a17-a3f8-9692e079b4ce"
      },
      "execution_count": 5,
      "outputs": [
        {
          "output_type": "stream",
          "name": "stdout",
          "text": [
            "[[4 2 8]\n",
            " [5 6 1]\n",
            " [8 5 4]\n",
            " [5 8 7]]\n",
            "[1 0 2]\n",
            "[[ 5  2 10]\n",
            " [ 4  9  3]\n",
            " [ 6  5  2]\n",
            " [ 2  9  3]]\n",
            "[[ 5  2 10]\n",
            " [ 6  6  3]\n",
            " [ 9  5  6]\n",
            " [ 6  8  9]]\n",
            "[[4 2 8]\n",
            " [5 6 1]\n",
            " [8 5 4]\n",
            " [5 8 7]]\n",
            "[1 0 2]\n",
            "[[ 5  2 10]\n",
            " [ 6  6  3]\n",
            " [ 9  5  6]\n",
            " [ 6  8  9]]\n",
            "[[ 5  2 10]\n",
            " [ 6  6  3]\n",
            " [ 9  5  6]\n",
            " [ 6  8  9]]\n",
            "[[4 2 8]\n",
            " [5 6 1]\n",
            " [8 5 4]\n",
            " [5 8 7]]\n",
            "[1 0 2]\n",
            "[[ 5  2 10]\n",
            " [ 6  6  3]\n",
            " [ 9  5  6]\n",
            " [ 6  8  9]]\n",
            "[[ 5  2 10]\n",
            " [ 6  6  3]\n",
            " [ 9  5  6]\n",
            " [ 6  8  9]]\n",
            "[[4 2 8]\n",
            " [5 6 1]\n",
            " [8 5 4]\n",
            " [5 8 7]]\n",
            "[1 0 2]\n",
            "[[ 5  2 10]\n",
            " [ 6  6  3]\n",
            " [ 9  5  6]\n",
            " [ 6  8  9]]\n",
            "[[ 5  2 10]\n",
            " [ 6  6  3]\n",
            " [ 9  5  6]\n",
            " [ 6  8  9]]\n"
          ]
        }
      ]
    },
    {
      "cell_type": "code",
      "source": [
        "a=np.array([1,2,3])\n",
        "\n",
        "print(a)\n",
        "\n",
        "tpm=np.tile(a,[6,1])\n",
        "print(tpm)"
      ],
      "metadata": {
        "colab": {
          "base_uri": "https://localhost:8080/"
        },
        "id": "2wEPy78NJdUp",
        "outputId": "499ef91c-a6d7-4464-e5a4-5527422e9092"
      },
      "execution_count": 6,
      "outputs": [
        {
          "output_type": "stream",
          "name": "stdout",
          "text": [
            "[1 2 3]\n",
            "[[1 2 3]\n",
            " [1 2 3]\n",
            " [1 2 3]\n",
            " [1 2 3]\n",
            " [1 2 3]\n",
            " [1 2 3]]\n"
          ]
        }
      ]
    },
    {
      "cell_type": "code",
      "source": [
        "a =np.random.randint(0,10,size =(6,6))\n",
        "print(a)\n",
        "aux=np.mean(a)\n",
        "print(aux)\n",
        "\n",
        "print(a.mean(axis=1))"
      ],
      "metadata": {
        "id": "P87kdSspJi-2"
      },
      "execution_count": null,
      "outputs": []
    }
  ]
}